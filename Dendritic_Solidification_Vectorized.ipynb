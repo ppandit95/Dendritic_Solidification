{
 "cells": [
  {
   "cell_type": "code",
   "execution_count": 5,
   "id": "dccb6108",
   "metadata": {},
   "outputs": [
    {
     "data": {
      "image/png": "[encoded data removed]",
      "text/plain": [
       "<Figure size 432x288 with 2 Axes>"
      ]
     },
     "metadata": {
      "needs_background": "light"
     },
     "output_type": "display_data"
    },
    {
     "data": {
      "image/png": "[encoded data removed]",
      "text/plain": [
       "<Figure size 432x288 with 1 Axes>"
      ]
     },
     "metadata": {
      "needs_background": "light"
     },
     "output_type": "display_data"
    },
    {
     "name": "stdout",
     "output_type": "stream",
     "text": [
      "Total runtime of the module is 7.7041743437449135 minutes\n"
     ]
    }
   ],
   "source": [
    "# Code to Measure time taken by module to execute.\n",
    "import time\n",
    "\n",
    "# store starting time\n",
    "begin1 = time.time()\n",
    "\n",
    "import math\n",
    "import matplotlib.pyplot as plt\n",
    "import numpy as np\n",
    "%matplotlib inline\n",
    "import matplotlib.animation as animation #Added for the purpose of animation\n",
    "from IPython.display import HTML #Added for the purpose of animation\n",
    "\n",
    "import matplotlib\n",
    "matplotlib.rcParams['animation.embed_limit'] = 2**128\n",
    "\n",
    "#Simulation Cell Parameters\n",
    "Nx = 300\n",
    "Ny = 300\n",
    "\n",
    "dx = 0.03\n",
    "dy = 0.03\n",
    "#Time Integration Parameters\n",
    "nstep = 4000\n",
    "nprint = 2 \n",
    "dtime = 1e-4\n",
    "#Material Specific Parameters\n",
    "tau = 0.0003\n",
    "epsilonb = 0.01\n",
    "kappa = 1.8\n",
    "delta = 0.02\n",
    "aniso = 6\n",
    "alpha = 0.9\n",
    "gamma = 10\n",
    "teq = 1\n",
    "theta0 = 0\n",
    "seed = 5\n",
    "\n",
    "\n",
    "\n",
    "pi = math.pi\n",
    "\n",
    "#Initialize and introduce nucleus\n",
    "phi = np.zeros((Nx,Ny))\n",
    "tempr = np.zeros((Nx,Ny))\n",
    "for i in range(Nx):\n",
    "    for j in range(Ny):\n",
    "        if ((i-Nx/2)**2+(j-Ny/2)**2 < seed):\n",
    "            phi[i,j] = 1\n",
    "            \n",
    "plt.imshow(phi,cmap=\"jet\")\n",
    "plt.colorbar()\n",
    "plt.grid()\n",
    "plt.title(\"profile of Phi\")\n",
    "plt.show()\n",
    "\n",
    "\n",
    "phi_animate = np.zeros((Nx,Ny,int(nstep/nprint)))\n",
    "p=0\n",
    "#Evolution\n",
    "lap_phi = np.zeros((Nx,Ny))\n",
    "lap_tempr = np.zeros((Nx,Ny))\n",
    "phidx = np.zeros((Nx,Ny))\n",
    "phidy = np.zeros((Nx,Ny))\n",
    "epsilon = np.zeros((Nx,Ny))\n",
    "epsilon_deriv = np.zeros((Nx,Ny))\n",
    "theta = np.zeros((Nx,Ny))\n",
    "term1 = np.zeros((Nx,Ny))\n",
    "term2 = np.zeros((Nx,Ny))\n",
    "m = np.zeros((Nx,Ny))\n",
    "for istep in range(nstep):\n",
    "    #laplacian of Phi\n",
    "    lap_phi[1:(Nx-2),1:(Ny-2)] = (1/(dx*dy))*(phi[0:(Nx-3),1:(Ny-2)]+ phi[2:(Nx-1),1:(Ny-2)]+phi[1:(Nx-2),0:(Ny-3)]+phi[1:(Nx-2),2:(Ny-1)])-(4/(dx*dy))*phi[1:(Nx-2),1:(Ny-2)]\n",
    "    lap_phi[1:(Nx-2),Ny-2] = (1/(dx*dy))*(phi[0:(Nx-3),Ny-2]+ phi[2:(Nx-1),Ny-2]+phi[1:(Nx-2),Ny-3]+phi[1:(Nx-2),Ny-1])-(4/(dx*dy))*phi[1:(Nx-2),Ny-2]\n",
    "    lap_phi[Nx-2,1:(Ny-2)] = (1/(dx*dy))*(phi[Nx-3,1:(Ny-2)]+ phi[Nx-1,1:(Ny-2)]+phi[Nx-2,0:(Ny-3)]+phi[Nx-2,2:(Ny-1)])-(4/(dx*dy))*phi[Nx-2,1:(Ny-2)]\n",
    "    lap_phi[0,1:(Ny-2)] = (phi[Nx-1,1:(Ny-2)] + phi[1,1:(Ny-2)] + phi[0,0:(Ny-3)] + phi[0,2:(Ny-1)] - 4 * phi[0,1:(Ny-2)])/(dx*dy) \n",
    "    lap_phi[1:(Nx-2),Ny-1] = (phi[0:(Nx-3),Ny-1]+phi[2:(Nx-1),Ny-1]+phi[1:(Nx-2),Ny-2]+phi[1:(Nx-2),0] - 4*phi[1:(Nx-2),Ny-1])/(dx*dy)\n",
    "    lap_phi[Nx-1,1:(Ny-2)] = (phi[Nx-2,1:(Ny-2)]+phi[0,1:(Ny-2)]+phi[Nx-1,0:(Ny-3)]+phi[Nx-1,2:(Ny-1)]-4*phi[Nx-1,1:(Ny-2)])/(dx*dy)\n",
    "    lap_phi[1:(Nx-2),0] = (phi[0:(Nx-3),0]+phi[2:(Nx-1),0]+phi[1:(Nx-2),Ny-1]+phi[1:(Nx-2),1] - 4*phi[1:(Nx-2),0])/(dx*dy)\n",
    "\n",
    "    lap_phi[Nx-1,Ny-2] = (1/(dx*dy))*(phi[Nx-2,Ny-2]+ phi[0,Ny-2]+phi[Nx-1,Ny-3]+phi[Nx-1,Ny-1])-(4/(dx*dy))*phi[Nx-1,Ny-2]\n",
    "    lap_phi[Nx-2,0] = (1/(dx*dy))*(phi[Nx-3,0]+ phi[Nx-1,0]+phi[Nx-2,Ny-1]+phi[Nx-2,1])-(4/(dx*dy))*phi[Nx-2,0]\n",
    "    lap_phi[Nx-2,Ny-2] = (1/(dx*dy))*(phi[Nx-3,Ny-2]+ phi[Nx-1,Ny-2]+phi[Nx-2,Ny-3]+phi[Nx-2,Ny-1])-(4/(dx*dy))*phi[Nx-2,Ny-2]\n",
    "    lap_phi[Nx-2,Ny-1] = (1/(dx*dy))*(phi[Nx-3,Ny-1]+ phi[Nx-1,Ny-1]+phi[Nx-2,Ny-2]+phi[Nx-2,0])-(4/(dx*dy))*phi[Nx-2,Ny-1]\n",
    "    lap_phi[0,Ny-2] = (1/(dx*dy))*(phi[Nx-1,Ny-2]+ phi[1,Ny-2]+phi[0,Ny-3]+phi[0,Ny-1])-(4/(dx*dy))*phi[0,Ny-2]\n",
    "    lap_phi[0,0] = (phi[Nx-1,0]+phi[1,0]+phi[0,Ny-1]+phi[0,1]-4*phi[0,0])/(dx*dy)\n",
    "    lap_phi[0,(Ny-1)] = (phi[Nx-1,Ny-1]+phi[1,Ny-1]+phi[0,Ny-2]+phi[0,0]-4*phi[0,Ny-1])/(dx*dy)\n",
    "    lap_phi[Nx-1,Ny-1] = (phi[Nx-2,Ny-1]+phi[0,Ny-1]+phi[Nx-1,Ny-2]+phi[Nx-1,0]-4*phi[Nx-1,Ny-1])/(dx*dy)\n",
    "    lap_phi[Nx-1,0] = (phi[Nx-2,0]+phi[0,0]+phi[Nx-1,Ny-1]+phi[Nx-1,1]-4*phi[Nx-1,0])/(dx*dy)\n",
    "    \n",
    "    #laplacian of temprature\n",
    "    lap_tempr[1:(Nx-2),1:(Ny-2)] = (1/(dx*dy))*(tempr[0:(Nx-3),1:(Ny-2)]+ tempr[2:(Nx-1),1:(Ny-2)]+tempr[1:(Nx-2),0:(Ny-3)]+tempr[1:(Nx-2),2:(Ny-1)])-(4/(dx*dy))*tempr[1:(Nx-2),1:(Ny-2)]\n",
    "    lap_tempr[1:(Nx-2),Ny-2] = (1/(dx*dy))*(tempr[0:(Nx-3),Ny-2]+ tempr[2:(Nx-1),Ny-2]+tempr[1:(Nx-2),Ny-3]+tempr[1:(Nx-2),Ny-1])-(4/(dx*dy))*tempr[1:(Nx-2),Ny-2]\n",
    "    lap_tempr[Nx-2,1:(Ny-2)] = (1/(dx*dy))*(tempr[Nx-3,1:(Ny-2)]+ tempr[Nx-1,1:(Ny-2)]+tempr[Nx-2,0:(Ny-3)]+tempr[Nx-2,2:(Ny-1)])-(4/(dx*dy))*tempr[Nx-2,1:(Ny-2)]\n",
    "    lap_tempr[0,1:(Ny-2)] = (tempr[Nx-1,1:(Ny-2)] + tempr[1,1:(Ny-2)] + tempr[0,0:(Ny-3)] + tempr[0,2:(Ny-1)] - 4 * tempr[0,1:(Ny-2)])/(dx*dy) \n",
    "    lap_tempr[1:(Nx-2),Ny-1] = (tempr[0:(Nx-3),Ny-1]+tempr[2:(Nx-1),Ny-1]+tempr[1:(Nx-2),Ny-2]+tempr[1:(Nx-2),0] - 4*tempr[1:(Nx-2),Ny-1])/(dx*dy)\n",
    "    lap_tempr[Nx-1,1:(Ny-2)] = (tempr[Nx-2,1:(Ny-2)]+tempr[0,1:(Ny-2)]+tempr[Nx-1,0:(Ny-3)]+tempr[Nx-1,2:(Ny-1)]-4*tempr[Nx-1,1:(Ny-2)])/(dx*dy)\n",
    "    lap_tempr[1:(Nx-2),0] = (tempr[0:(Nx-3),0]+tempr[2:(Nx-1),0]+tempr[1:(Nx-2),Ny-1]+tempr[1:(Nx-2),1] - 4*tempr[1:(Nx-2),0])/(dx*dy)\n",
    "\n",
    "    lap_tempr[Nx-1,Ny-2] = (1/(dx*dy))*(tempr[Nx-2,Ny-2]+ tempr[0,Ny-2]+tempr[Nx-1,Ny-3]+tempr[Nx-1,Ny-1])-(4/(dx*dy))*tempr[Nx-1,Ny-2]\n",
    "    lap_tempr[Nx-2,0] = (1/(dx*dy))*(tempr[Nx-3,0]+ tempr[Nx-1,0]+tempr[Nx-2,Ny-1]+tempr[Nx-2,1])-(4/(dx*dy))*tempr[Nx-2,0]\n",
    "    lap_tempr[Nx-2,Ny-2] = (1/(dx*dy))*(tempr[Nx-3,Ny-2]+ tempr[Nx-1,Ny-2]+tempr[Nx-2,Ny-3]+tempr[Nx-2,Ny-1])-(4/(dx*dy))*tempr[Nx-2,Ny-2]\n",
    "    lap_tempr[Nx-2,Ny-1] = (1/(dx*dy))*(tempr[Nx-3,Ny-1]+ tempr[Nx-1,Ny-1]+tempr[Nx-2,Ny-2]+tempr[Nx-2,0])-(4/(dx*dy))*tempr[Nx-2,Ny-1]\n",
    "    lap_tempr[0,Ny-2] = (1/(dx*dy))*(tempr[Nx-1,Ny-2]+ tempr[1,Ny-2]+tempr[0,Ny-3]+tempr[0,Ny-1])-(4/(dx*dy))*tempr[0,Ny-2]\n",
    "    lap_tempr[0,0] = (tempr[Nx-1,0]+tempr[1,0]+tempr[0,Ny-1]+tempr[0,1]-4*tempr[0,0])/(dx*dy)\n",
    "    lap_tempr[0,(Ny-1)] = (tempr[Nx-1,Ny-1]+tempr[1,Ny-1]+tempr[0,Ny-2]+tempr[0,0]-4*tempr[0,Ny-1])/(dx*dy)\n",
    "    lap_tempr[Nx-1,Ny-1] = (tempr[Nx-2,Ny-1]+tempr[0,Ny-1]+tempr[Nx-1,Ny-2]+tempr[Nx-1,0]-4*tempr[Nx-1,Ny-1])/(dx*dy)\n",
    "    lap_tempr[Nx-1,0] = (tempr[Nx-2,0]+tempr[0,0]+tempr[Nx-1,Ny-1]+tempr[Nx-1,1]-4*tempr[Nx-1,0])/(dx*dy)\n",
    "    \n",
    "    #phidx\n",
    "    phidx[1:(Nx-2),:] = (phi[2:(Nx-1),:]-phi[0:(Nx-3),:])/(2*dx)\n",
    "    phidx[Nx-2,:] = (phi[Nx-1,:]-phi[Nx-3,:])/(2*dx)\n",
    "    phidx[Nx-1,:] = (phi[0,:]-phi[Nx-2,:])/(2*dx)\n",
    "    phidx[0,:] = (phi[1,:]-phi[Nx-1,:])/(2*dx)\n",
    "    \n",
    "    #phidy\n",
    "    phidy[:,1:(Ny-2)] = (phi[:,2:(Ny-1)]-phi[:,0:(Ny-3)])/(2*dy)\n",
    "    phidy[:,Ny-2] = (phi[:,Ny-1]-phi[:,Ny-3])/(2*dy)\n",
    "    phidy[:,Ny-1] = (phi[:,0]-phi[:,Ny-2])/(2*dy)\n",
    "    phidy[:,0] = (phi[:,1]-phi[:,Ny-1])/(2*dy)\n",
    "\n",
    "    #theta\n",
    "    theta[:,:] = np.arctan2(phidy[:,:],phidx[:,:])\n",
    "\n",
    "    #Epsilon and its derivatives\n",
    "    epsilon[:,:] = epsilonb*(1+delta*np.cos(aniso*(theta[:,:]-theta0)))\n",
    "    epsilon_deriv[:,:] = -epsilonb*aniso*delta*np.sin(aniso*(theta[:,:]-theta0))\n",
    "    \n",
    "    #Calculation of Term1\n",
    "    term1[:,1:(Ny-2)] = (epsilon[:,2:(Ny-1)]*epsilon_deriv[:,2:(Ny-1)]*phidx[:,2:(Ny-1)]-epsilon[:,0:(Ny-3)]*epsilon_deriv[:,0:(Ny-3)]*phidx[:,0:(Ny-3)])/(2*dy)\n",
    "    term1[:,Ny-2] = (epsilon[:,Ny-1]*epsilon_deriv[:,Ny-1]*phidx[:,Ny-1]-epsilon[:,Ny-3]*epsilon_deriv[:,Ny-3]*phidx[:,Ny-3])/(2*dy)\n",
    "    term1[:,Ny-1] = (epsilon[:,0]*epsilon_deriv[:,0]*phidx[:,0]-epsilon[:,Ny-2]*epsilon_deriv[:,Ny-2]*phidx[:,Ny-2])/(2*dy)\n",
    "    term1[:,0] = (epsilon[:,1]*epsilon_deriv[:,1]*phidx[:,1]-epsilon[:,Ny-1]*epsilon_deriv[:,Ny-1]*phidx[:,Ny-1])/(2*dy)\n",
    "    \n",
    "    #Calculation of Term2\n",
    "    term2[1:(Nx-2),:] = -(epsilon[2:(Nx-1),:]*epsilon_deriv[2:(Nx-1),:]*phidy[2:(Nx-1),:]-epsilon[0:(Nx-3),:]*epsilon_deriv[0:(Nx-3),:]*phidy[0:(Nx-3),:])/(2*dx)\n",
    "    term2[Nx-2,:] = -(epsilon[Nx-1,:]*epsilon_deriv[Nx-1,:]*phidy[Nx-1,:]-epsilon[Nx-3,:]*epsilon_deriv[Nx-3,:]*phidy[Nx-3,:])/(2*dx)\n",
    "    term2[Nx-1,:] = -(epsilon[0,:]*epsilon_deriv[0,:]*phidy[0,:]-epsilon[Nx-2,:]*epsilon_deriv[Nx-2,:]*phidy[Nx-2,:])/(2*dx)\n",
    "    term2[0,:] = -(epsilon[1,:]*epsilon_deriv[1,:]*phidy[1,:]-epsilon[Nx-1,:]*epsilon_deriv[Nx-1,:]*phidy[Nx-1,:])/(2*dx)\n",
    "    \n",
    "    #Calculation of m\n",
    "    m[:,:] = (alpha/pi)*np.arctan(gamma*(teq-tempr[:,:]))\n",
    "    \n",
    "    #Updating phi and Tempr with Jacobi Method\n",
    "    phi[:,:] = phi[:,:] + (dtime/tau)*(term1[:,:]+term2[:,:]+epsilon[:,:]**2*lap_phi[:,:]+phi[:,:]*(1-phi[:,:])*(phi[:,:]-0.5+m[:,:]))\n",
    "    tempr[:,:] = tempr[:,:] + dtime*(lap_tempr[:,:]+(kappa/tau)*(term1[:,:]+term2[:,:]+epsilon[:,:]**2*lap_phi[:,:]+phi[:,:]*(1-phi[:,:])*(phi[:,:]-0.5+m[:,:])))\n",
    "\n",
    "    if istep%nprint== 0:\n",
    "        phi_animate[...,p] = np.copy(tempr)\n",
    "        p=p+1  \n",
    "#Saving Animation \n",
    "fig,ax = plt.subplots()\n",
    "def animate(i):\n",
    "    ax.clear()\n",
    "    ax.imshow(phi_animate[...,i],cmap='jet')\n",
    "    ax.set_title(f'At time step {(i+1)*nprint}')\n",
    "ani = animation.FuncAnimation(fig,animate,int(nstep/nprint),interval=20,blit=False)\n",
    "plt.show()\n",
    "HTML(ani.to_jshtml())\n",
    "\n",
    "# saving to m4 using ffmpeg writer\n",
    "writervideo = animation.FFMpegWriter(fps=30)\n",
    "ani.save('Dendritic_Solidification_Vectorized.mp4', writer=writervideo)\n",
    "plt.close()\n",
    "\n",
    "time.sleep(1)\n",
    "# store end time\n",
    "end1 = time.time()\n",
    "\n",
    "#total time taken\n",
    "print(f\"Total runtime of the module is {(end1 - begin1)/60} minutes\")"
   ]
  },
  {
   "cell_type": "code",
   "execution_count": null,
   "id": "3caec35c",
   "metadata": {},
   "outputs": [],
   "source": [
    "lap_phi[1:Nx-2,1:Ny-2] = (phi[0:Nx-3,1:Ny-2] + phi[2:Nx-1,1:Ny-2] + phi[1:Nx-2,0:Ny-3] + phi[1:Nx-2,2:Ny-1]- 4.*phi[1:Nx-2,1:Ny-2])./(dx*dy)\n",
    "lap_phi[0,1:Ny-2] = (phi[Nx-1,1:Ny-2] + phi[1,1:Ny-2] + phi[0,0:Ny-3] + phi[0,2:Ny-1] - 4.*phi[0,1:Ny-2])./(dx*dy) \n",
    "lap_phi[1:Nx-2,Ny-1] = (phi[0:Nx-3,Ny-1]+phi[2:Nx-1,Ny-1]+phi[1:Nx-2,Ny-2]+phi[1:Nx-2,0] - 4*phi[1:Nx-2,Ny-1])/(dx*dy)\n",
    "lap_phi[Nx-1,1:Ny-2] = (phi[Nx-2,1:Ny-2]+phi[0,1:Ny-2]+phi[Nx-1,0:Ny-3]+phi[Nx-1,2:Ny-1]-4*phi[Nx-1,1:Ny-2])/(dx*dy)\n",
    "lap_phi[1:Nx-2,0] = (phi[0:Nx-3,0]+phi[2:Nx-1,0]+phi[1:Nx-2,Ny-1]+phi[1:Nx-2,1] - 4*phi[1:Nx-2,0])/(dx*dy)\n",
    "\n",
    "lap_phi[0,0] = (phi[Nx-1,0]+phi[1,0]+phi[0,Ny-1]+phi[0,1]-4*phi[0,0])/(dx*dy)\n",
    "lap_phi[0,Ny-1] = (phi[Nx-1,Ny-1]+phi[1,Ny-1]+phi[0,Ny-2]+phi[0,0]-4*phi[0,Ny-1])/(dx*dy)\n",
    "lap_phi[Nx-1,Ny-1] = (phi[Nx-2,Ny-1]+phi[0,Ny-1]+phi[Nx-1,Ny-2]+phi[Nx-1,0]-4*phi[Nx-1,Ny-1])/(dx*dy)\n",
    "lap_phi[Nx-1,0] = (phi[Nx-2,0]+phi[0,0]+phi[Nx-1,Ny-1]+phi[Nx-1,1]-4*phi[Nx-1,0])/(dx*dy)"
   ]
  },
  {
   "cell_type": "code",
   "execution_count": null,
   "id": "41ad8a55",
   "metadata": {},
   "outputs": [],
   "source": [
    "a =np.random.rand(100)\n",
    "b = np.random.rand(100)"
   ]
  },
  {
   "cell_type": "code",
   "execution_count": null,
   "id": "d977cc07",
   "metadata": {},
   "outputs": [],
   "source": [
    "a"
   ]
  },
  {
   "cell_type": "code",
   "execution_count": null,
   "id": "d1df94ff",
   "metadata": {},
   "outputs": [],
   "source": [
    "b"
   ]
  },
  {
   "cell_type": "code",
   "execution_count": null,
   "id": "ff2b9e04",
   "metadata": {},
   "outputs": [],
   "source": [
    "c = a.+b "
   ]
  },
  {
   "cell_type": "code",
   "execution_count": null,
   "id": "018803ea",
   "metadata": {},
   "outputs": [],
   "source": [
    "c = a + b\n"
   ]
  },
  {
   "cell_type": "code",
   "execution_count": null,
   "id": "be285854",
   "metadata": {},
   "outputs": [],
   "source": [
    "c"
   ]
  },
  {
   "cell_type": "code",
   "execution_count": null,
   "id": "5d29e038",
   "metadata": {},
   "outputs": [],
   "source": [
    "a[-1]"
   ]
  },
  {
   "cell_type": "code",
   "execution_count": null,
   "id": "2444631f",
   "metadata": {},
   "outputs": [],
   "source": [
    "a = np.random.rand(100,100)"
   ]
  },
  {
   "cell_type": "code",
   "execution_count": null,
   "id": "f0612b45",
   "metadata": {},
   "outputs": [],
   "source": [
    "a"
   ]
  },
  {
   "cell_type": "code",
   "execution_count": null,
   "id": "f555fb50",
   "metadata": {},
   "outputs": [],
   "source": [
    "a[-1,-1]"
   ]
  },
  {
   "cell_type": "code",
   "execution_count": null,
   "id": "b687ec86",
   "metadata": {},
   "outputs": [],
   "source": [
    "a[-1,:]"
   ]
  },
  {
   "cell_type": "code",
   "execution_count": null,
   "id": "c8810d93",
   "metadata": {},
   "outputs": [],
   "source": [
    "a[1,1:100]"
   ]
  },
  {
   "cell_type": "code",
   "execution_count": null,
   "id": "f68d7a82",
   "metadata": {},
   "outputs": [],
   "source": [
    "a[1,1:100] + b[1:100]"
   ]
  },
  {
   "cell_type": "code",
   "execution_count": 1,
   "id": "760cf944",
   "metadata": {},
   "outputs": [
    {
     "data": {
      "text/plain": [
       "False"
      ]
     },
     "execution_count": 1,
     "metadata": {},
     "output_type": "execute_result"
    }
   ],
   "source": [
    "import numpy as np\n",
    "Nx=4\n",
    "Ny=4\n",
    "dx=0.03\n",
    "dy=0.03\n",
    "phi=np.random.rand(Nx,Ny)\n",
    "lap_phi=np.zeros((Nx,Ny))\n",
    "lap_phi1 = np.zeros((Nx,Ny))\n",
    "\n",
    "\n",
    "lap_phi[1:(Nx-2),1:(Ny-2)] = (1/(dx*dy))*(phi[0:(Nx-3),1:(Ny-2)]+ phi[2:(Nx-1),1:(Ny-2)]+phi[1:(Nx-2),0:(Ny-3)]+phi[1:(Nx-2),2:(Ny-1)])-(4/(dx*dy))*phi[1:(Nx-2),1:(Ny-2)]\n",
    "#lap_phi[0,(1:Ny-2)] = (phi[Nx-1,(1:Ny-2)] + phi[1,(1:Ny-2)] + phi[0,(0:Ny-3)] + phi[0,(2:Ny-1)] - 4 * phi[0,1:(Ny-2)])/(dx*dy) \n",
    "#lap_phi[1:Nx-2,Ny-1] = (phi[0:Nx-3,Ny-1]+phi[2:Nx-1,Ny-1]+phi[1:Nx-2,Ny-2]+phi[1:Nx-2,0] - 4*phi[1:Nx-2,Ny-1])/(dx*dy)\n",
    "#lap_phi[Nx-1,1:Ny-2] = (phi[Nx-2,1:Ny-2]+phi[0,1:Ny-2]+phi[Nx-1,0:Ny-3]+phi[Nx-1,2:Ny-1]-4*phi[Nx-1,1:Ny-2])/(dx*dy)\n",
    "#lap_phi[1:Nx-2,0] = (phi[0:Nx-3,0]+phi[2:Nx-1,0]+phi[1:Nx-2,Ny-1]+phi[1:Nx-2,1] - 4*phi[1:Nx-2,0])/(dx*dy)\n",
    "\n",
    "lap_phi[0,0] = (phi[Nx-1,0]+phi[1,0]+phi[0,Ny-1]+phi[0,1]-4*phi[0,0])/(dx*dy)\n",
    "lap_phi[0,(Ny-1)] = (phi[Nx-1,Ny-1]+phi[1,Ny-1]+phi[0,Ny-2]+phi[0,0]-4*phi[0,Ny-1])/(dx*dy)\n",
    "lap_phi[Nx-1,Ny-1] = (phi[Nx-2,Ny-1]+phi[0,Ny-1]+phi[Nx-1,Ny-2]+phi[Nx-1,0]-4*phi[Nx-1,Ny-1])/(dx*dy)\n",
    "lap_phi[Nx-1,0] = (phi[Nx-2,0]+phi[0,0]+phi[Nx-1,Ny-1]+phi[Nx-1,1]-4*phi[Nx-1,0])/(dx*dy)\n",
    "\n",
    "for i in range(Nx):\n",
    "        for j in range(Ny):\n",
    "            jp = j+1\n",
    "            jm = j-1\n",
    "            ip = i+1\n",
    "            im = i-1\n",
    "            if im == -1:\n",
    "                im = Nx-1\n",
    "            if ip == Nx:\n",
    "                ip = 0\n",
    "            if jm == -1:\n",
    "                jm = Ny-1\n",
    "            if jp == Ny:\n",
    "                jp = 0\n",
    "            hne = phi[ip,j]\n",
    "            hnw = phi[im,j]\n",
    "            hns = phi[i,jm]\n",
    "            hnn = phi[i,jp]\n",
    "            hnc = phi[i,j]\n",
    "            lap_phi1[i,j] = (hnw+hne+hns+hnn-4*hnc)/(dx*dy)\n",
    "\n",
    "(lap_phi==lap_phi1).all()"
   ]
  },
  {
   "cell_type": "code",
   "execution_count": 2,
   "id": "98e1e49f",
   "metadata": {},
   "outputs": [
    {
     "data": {
      "text/plain": [
       "array([[-1157.91849858,     0.        ,     0.        ,   571.83206744],\n",
       "       [    0.        ,   961.74331886,     0.        ,     0.        ],\n",
       "       [    0.        ,     0.        ,     0.        ,     0.        ],\n",
       "       [ 2905.28574627,     0.        ,     0.        ,  -236.80007106]])"
      ]
     },
     "execution_count": 2,
     "metadata": {},
     "output_type": "execute_result"
    }
   ],
   "source": [
    "lap_phi"
   ]
  },
  {
   "cell_type": "code",
   "execution_count": 3,
   "id": "456ca6b3",
   "metadata": {},
   "outputs": [
    {
     "data": {
      "text/plain": [
       "array([[-1157.91849858,  1372.85003483,  -904.57071093,   571.83206744],\n",
       "       [ -158.95996662,   961.74331886,   611.63665892, -1536.49682048],\n",
       "       [-2951.54031866,  2220.91867275,   136.27471217,   528.19544768],\n",
       "       [ 2905.28574627, -2706.07416403,   343.62389145,  -236.80007106]])"
      ]
     },
     "execution_count": 3,
     "metadata": {},
     "output_type": "execute_result"
    }
   ],
   "source": [
    "lap_phi1"
   ]
  },
  {
   "cell_type": "code",
   "execution_count": null,
   "id": "f6293982",
   "metadata": {},
   "outputs": [],
   "source": [
    "lap_phi[1,0]"
   ]
  },
  {
   "cell_type": "code",
   "execution_count": null,
   "id": "6dc50fbf",
   "metadata": {},
   "outputs": [],
   "source": [
    "a = np.random.rand(100,100)\n",
    "b=np.random.rand(100,100)\n",
    "c=np.zeros((100,100))\n",
    "c[1:50,1:50]=a[1:50,1:50]+b[1:50,1:50]"
   ]
  },
  {
   "cell_type": "code",
   "execution_count": null,
   "id": "05126286",
   "metadata": {},
   "outputs": [],
   "source": [
    "c"
   ]
  },
  {
   "cell_type": "code",
   "execution_count": null,
   "id": "e2c750ea",
   "metadata": {},
   "outputs": [],
   "source": [
    "r = 1:50\n",
    "c[r,r] = a[r,r] + b[r,r]"
   ]
  },
  {
   "cell_type": "code",
   "execution_count": null,
   "id": "2430305a",
   "metadata": {},
   "outputs": [],
   "source": [
    "r = np.linspace(1,50,50)"
   ]
  },
  {
   "cell_type": "code",
   "execution_count": null,
   "id": "1a2d1572",
   "metadata": {},
   "outputs": [],
   "source": [
    "r"
   ]
  },
  {
   "cell_type": "code",
   "execution_count": null,
   "id": "5ba9b266",
   "metadata": {},
   "outputs": [],
   "source": [
    "c[r,r] = a[r,r] + b[r,r]"
   ]
  },
  {
   "cell_type": "code",
   "execution_count": null,
   "id": "925e3c62",
   "metadata": {},
   "outputs": [],
   "source": [
    "a[r,r]"
   ]
  },
  {
   "cell_type": "code",
   "execution_count": null,
   "id": "0c44e47c",
   "metadata": {},
   "outputs": [],
   "source": [
    "a(r,r)"
   ]
  },
  {
   "cell_type": "code",
   "execution_count": null,
   "id": "2c781090",
   "metadata": {},
   "outputs": [],
   "source": [
    "a[[1:50]]"
   ]
  },
  {
   "cell_type": "code",
   "execution_count": null,
   "id": "517f6b4a",
   "metadata": {},
   "outputs": [],
   "source": [
    "a[1:50]"
   ]
  },
  {
   "cell_type": "code",
   "execution_count": null,
   "id": "a4afc09c",
   "metadata": {},
   "outputs": [],
   "source": [
    "a[1:50,:]"
   ]
  },
  {
   "cell_type": "code",
   "execution_count": null,
   "id": "5d7e370f",
   "metadata": {},
   "outputs": [],
   "source": [
    "a[1:50,1:50]"
   ]
  },
  {
   "cell_type": "code",
   "execution_count": null,
   "id": "a6b7846d",
   "metadata": {},
   "outputs": [],
   "source": [
    "b[1:50,1:50]"
   ]
  },
  {
   "cell_type": "code",
   "execution_count": null,
   "id": "8697f2ac",
   "metadata": {},
   "outputs": [],
   "source": [
    "a[1:50,1:50] + b[1:50,1:50]"
   ]
  },
  {
   "cell_type": "code",
   "execution_count": null,
   "id": "32c05937",
   "metadata": {},
   "outputs": [],
   "source": [
    "c[1:50,1:50]"
   ]
  },
  {
   "cell_type": "code",
   "execution_count": null,
   "id": "c804597b",
   "metadata": {},
   "outputs": [],
   "source": [
    "c"
   ]
  },
  {
   "cell_type": "code",
   "execution_count": null,
   "id": "21d574c7",
   "metadata": {},
   "outputs": [],
   "source": [
    "Nx=100\n",
    "Ny=100\n",
    "phi=np.random.rand(Nx,Ny)\n",
    "lap_phi=np.zeros((Nx,Ny))\n",
    "lap_phi[1:(Nx-2),1:(Ny-2)] = (phi[0:(Nx-3),1:(Ny-2)] + phi[2:(Nx-1),1:(Ny-2)] + phi[1:(Nx-2),0:Ny-3] + phi[1:(Nx-2),2:(Ny-1)]- 4*phi[1:(Nx-2),1:(Ny-2)])/(dx*dy)\n"
   ]
  },
  {
   "cell_type": "code",
   "execution_count": null,
   "id": "fc068ebb",
   "metadata": {},
   "outputs": [],
   "source": [
    "lap_phi"
   ]
  },
  {
   "cell_type": "code",
   "execution_count": null,
   "id": "c4aee395",
   "metadata": {},
   "outputs": [],
   "source": [
    "X,Y = np.meshgrid(range(Nx),range(Ny))"
   ]
  },
  {
   "cell_type": "code",
   "execution_count": null,
   "id": "3711c4ab",
   "metadata": {},
   "outputs": [],
   "source": [
    "X"
   ]
  },
  {
   "cell_type": "code",
   "execution_count": null,
   "id": "e3b00d0e",
   "metadata": {},
   "outputs": [],
   "source": [
    "Y"
   ]
  },
  {
   "cell_type": "code",
   "execution_count": null,
   "id": "f3521ce2",
   "metadata": {},
   "outputs": [],
   "source": [
    "lap_phi[1,2]"
   ]
  },
  {
   "cell_type": "code",
   "execution_count": null,
   "id": "ba27afaf",
   "metadata": {},
   "outputs": [],
   "source": [
    "lap_phi = np.random.rand(Nx,Ny)\n",
    "lap_phi[1:(Nx-2),1:(Ny-2)]"
   ]
  },
  {
   "cell_type": "code",
   "execution_count": null,
   "id": "d34e0ce1",
   "metadata": {},
   "outputs": [],
   "source": [
    "np.ix_[range(1,Ny-2),[1:(Ny-2)]]"
   ]
  },
  {
   "cell_type": "code",
   "execution_count": null,
   "id": "1e0fc0a8",
   "metadata": {},
   "outputs": [],
   "source": [
    "range(1,Ny-2)"
   ]
  },
  {
   "cell_type": "code",
   "execution_count": null,
   "id": "7486e2da",
   "metadata": {},
   "outputs": [],
   "source": [
    "np.linspace(1,(Ny-2),)"
   ]
  },
  {
   "cell_type": "code",
   "execution_count": null,
   "id": "ae8b1baf",
   "metadata": {},
   "outputs": [],
   "source": [
    "Nx=300\n",
    "Ny=300"
   ]
  },
  {
   "cell_type": "code",
   "execution_count": null,
   "id": "6c012e21",
   "metadata": {},
   "outputs": [],
   "source": [
    "import math\n",
    "a=np.linspace(1,(Nx-2),num=(Nx-2))\n",
    "b=np.linspace(1,(Ny-2),num=(Ny-2))\n",
    "rangeInside = np.ix_(a,b)\n",
    "R = np.array(a,int)\n",
    "lap_phi[R]"
   ]
  },
  {
   "cell_type": "code",
   "execution_count": null,
   "id": "31b36470",
   "metadata": {},
   "outputs": [],
   "source": [
    "rangeInside"
   ]
  },
  {
   "cell_type": "code",
   "execution_count": null,
   "id": "33be00fc",
   "metadata": {},
   "outputs": [],
   "source": [
    "lap_phi[1:(Nx-2),1:(Ny-2)]"
   ]
  },
  {
   "cell_type": "code",
   "execution_count": null,
   "id": "99960ebd",
   "metadata": {},
   "outputs": [],
   "source": [
    "Nx"
   ]
  },
  {
   "cell_type": "code",
   "execution_count": null,
   "id": "c78d4167",
   "metadata": {},
   "outputs": [],
   "source": [
    "Ny"
   ]
  },
  {
   "cell_type": "code",
   "execution_count": null,
   "id": "29530c21",
   "metadata": {},
   "outputs": [],
   "source": [
    "lap_phi"
   ]
  },
  {
   "cell_type": "code",
   "execution_count": null,
   "id": "769a2cd0",
   "metadata": {},
   "outputs": [],
   "source": [
    "lap_phi = np.random.rand(Nx,Ny)"
   ]
  },
  {
   "cell_type": "code",
   "execution_count": null,
   "id": "632325b0",
   "metadata": {},
   "outputs": [],
   "source": [
    "lap_phi"
   ]
  },
  {
   "cell_type": "code",
   "execution_count": null,
   "id": "58216d08",
   "metadata": {},
   "outputs": [],
   "source": [
    "lap_phi[1:(Nx-2),1:(Ny-2)]"
   ]
  },
  {
   "cell_type": "code",
   "execution_count": null,
   "id": "8f10e492",
   "metadata": {},
   "outputs": [],
   "source": [
    "phi = np.random.rand(Nx,Ny)\n",
    "#lap_phi[1:(Nx-2),1:(Ny-2)] = (phi[0:(Nx-3),1:(Ny-2)] + phi[2:(Nx-1),1:(Ny-2)] + phi[1:(Nx-2),0:Ny-3] + phi[1:(Nx-2),2:(Ny-1)]- 4.*phi[1:(Nx-2),1:(Ny-2)])./(dx*dy)\n",
    "lap_phi[1:(Nx-2),1:(Ny-2)] = (1/(dx*dy))*phi[0:(Nx-3),1:(Ny-2)]\n",
    "                     "
   ]
  },
  {
   "cell_type": "code",
   "execution_count": null,
   "id": "be2d6a66",
   "metadata": {},
   "outputs": [],
   "source": [
    "lap_phi[1:(Nx-2),1:(Ny-2)]"
   ]
  },
  {
   "cell_type": "code",
   "execution_count": null,
   "id": "63eba5a3",
   "metadata": {},
   "outputs": [],
   "source": [
    "lap_phi[1:(Nx-2),1:(Ny-2)] = (1/(dx*dy))*(phi[0:(Nx-3),1:(Ny-2)]+ phi[2:(Nx-1),1:(Ny-2)])"
   ]
  },
  {
   "cell_type": "code",
   "execution_count": null,
   "id": "79976201",
   "metadata": {},
   "outputs": [],
   "source": [
    "lap_phi[1:(Nx-2),1:(Ny-2)]"
   ]
  },
  {
   "cell_type": "code",
   "execution_count": null,
   "id": "995934bc",
   "metadata": {},
   "outputs": [],
   "source": [
    "lap_phi[1:(Nx-2),1:(Ny-2)] = (1/(dx*dy))*(phi[0:(Nx-3),1:(Ny-2)]+ phi[2:(Nx-1),1:(Ny-2)]+phi[1:(Nx-2),0:(Ny-3)])"
   ]
  },
  {
   "cell_type": "code",
   "execution_count": null,
   "id": "1985b061",
   "metadata": {},
   "outputs": [],
   "source": [
    "lap_phi[1:(Nx-2),1:(Ny-2)]"
   ]
  },
  {
   "cell_type": "code",
   "execution_count": null,
   "id": "b64f1a86",
   "metadata": {},
   "outputs": [],
   "source": [
    "lap_phi[1:(Nx-2),1:(Ny-2)] = (1/(dx*dy))*(phi[0:(Nx-3),1:(Ny-2)]+ phi[2:(Nx-1),1:(Ny-2)]+phi[1:(Nx-2),0:(Ny-3)]+phi[1:(Nx-2),2:(Ny-1)])"
   ]
  },
  {
   "cell_type": "code",
   "execution_count": null,
   "id": "43edd4e5",
   "metadata": {},
   "outputs": [],
   "source": [
    "lap_phi[1:(Nx-2),1:(Ny-2)]"
   ]
  },
  {
   "cell_type": "code",
   "execution_count": null,
   "id": "e2325e9a",
   "metadata": {},
   "outputs": [],
   "source": [
    "lap_phi[1:(Nx-2),1:(Ny-2)] = (1/(dx*dy))*(phi[0:(Nx-3),1:(Ny-2)]+ phi[2:(Nx-1),1:(Ny-2)]+phi[1:(Nx-2),0:(Ny-3)]+phi[1:(Nx-2),2:(Ny-1)])-(4/(dx*dy))*phi[1:(Nx-2),1:(Ny-2)]"
   ]
  },
  {
   "cell_type": "code",
   "execution_count": null,
   "id": "351e0c31",
   "metadata": {},
   "outputs": [],
   "source": [
    "lap_phi[1:(Nx-2),1:(Ny-2)]"
   ]
  },
  {
   "cell_type": "code",
   "execution_count": null,
   "id": "50a5e214",
   "metadata": {},
   "outputs": [],
   "source": []
  }
 ],
 "metadata": {
  "kernelspec": {
   "display_name": "Python 3",
   "language": "python",
   "name": "python3"
  },
  "language_info": {
   "codemirror_mode": {
    "name": "ipython",
    "version": 3
   },
   "file_extension": ".py",
   "mimetype": "text/x-python",
   "name": "python",
   "nbconvert_exporter": "python",
   "pygments_lexer": "ipython3",
   "version": "3.8.10"
  }
 },
 "nbformat": 4,
 "nbformat_minor": 5
}
